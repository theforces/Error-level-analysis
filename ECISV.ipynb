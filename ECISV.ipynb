{
  "nbformat": 4,
  "nbformat_minor": 0,
  "metadata": {
    "colab": {
      "name": "ECISV.ipynb",
      "provenance": [],
      "collapsed_sections": [],
      "authorship_tag": "ABX9TyMWOtdxW/9rnSzG9wKbrZ3l",
      "include_colab_link": true
    },
    "kernelspec": {
      "name": "python3",
      "display_name": "Python 3"
    },
    "language_info": {
      "name": "python"
    },
    "widgets": {
      "application/vnd.jupyter.widget-state+json": {
        "e84ae664efbe454782efcbb33051c30e": {
          "model_module": "@jupyter-widgets/controls",
          "model_name": "IntSliderModel",
          "model_module_version": "1.5.0",
          "state": {
            "_view_name": "IntSliderView",
            "style": "IPY_MODEL_826d1431d70942118a0dd17b4060b22a",
            "_dom_classes": [],
            "description": "",
            "step": 1,
            "_model_name": "IntSliderModel",
            "orientation": "horizontal",
            "max": 100,
            "_view_module": "@jupyter-widgets/controls",
            "_model_module_version": "1.5.0",
            "value": 90,
            "_view_count": null,
            "disabled": false,
            "_view_module_version": "1.5.0",
            "min": 0,
            "continuous_update": true,
            "readout_format": "d",
            "description_tooltip": null,
            "readout": true,
            "_model_module": "@jupyter-widgets/controls",
            "layout": "IPY_MODEL_46d775959b8f4363bc89ee275ba210af"
          }
        },
        "826d1431d70942118a0dd17b4060b22a": {
          "model_module": "@jupyter-widgets/controls",
          "model_name": "SliderStyleModel",
          "model_module_version": "1.5.0",
          "state": {
            "_view_name": "StyleView",
            "handle_color": null,
            "_model_name": "SliderStyleModel",
            "description_width": "",
            "_view_module": "@jupyter-widgets/base",
            "_model_module_version": "1.5.0",
            "_view_count": null,
            "_view_module_version": "1.2.0",
            "_model_module": "@jupyter-widgets/controls"
          }
        },
        "46d775959b8f4363bc89ee275ba210af": {
          "model_module": "@jupyter-widgets/base",
          "model_name": "LayoutModel",
          "model_module_version": "1.2.0",
          "state": {
            "_view_name": "LayoutView",
            "grid_template_rows": null,
            "right": null,
            "justify_content": null,
            "_view_module": "@jupyter-widgets/base",
            "overflow": null,
            "_model_module_version": "1.2.0",
            "_view_count": null,
            "flex_flow": null,
            "width": null,
            "min_width": null,
            "border": null,
            "align_items": null,
            "bottom": null,
            "_model_module": "@jupyter-widgets/base",
            "top": null,
            "grid_column": null,
            "overflow_y": null,
            "overflow_x": null,
            "grid_auto_flow": null,
            "grid_area": null,
            "grid_template_columns": null,
            "flex": null,
            "_model_name": "LayoutModel",
            "justify_items": null,
            "grid_row": null,
            "max_height": null,
            "align_content": null,
            "visibility": null,
            "align_self": null,
            "height": null,
            "min_height": null,
            "padding": null,
            "grid_auto_rows": null,
            "grid_gap": null,
            "max_width": null,
            "order": null,
            "_view_module_version": "1.2.0",
            "grid_template_areas": null,
            "object_position": null,
            "object_fit": null,
            "grid_auto_columns": null,
            "margin": null,
            "display": null,
            "left": null
          }
        }
      }
    }
  },
  "cells": [
    {
      "cell_type": "markdown",
      "metadata": {
        "id": "view-in-github",
        "colab_type": "text"
      },
      "source": [
        "<a href=\"https://colab.research.google.com/github/theforces/Error-level-analysis/blob/main/ECISV.ipynb\" target=\"_parent\"><img src=\"https://colab.research.google.com/assets/colab-badge.svg\" alt=\"Open In Colab\"/></a>"
      ]
    },
    {
      "cell_type": "code",
      "source": [
        "#@title Create folder for images\n",
        "# https://stackoverflow.com/questions/60706752/how-to-make-directory-on-the-google-colab\n",
        "\n",
        "import os.path\n",
        "from os import path\n",
        "\n",
        "if path.exists('/content/images') == False:\n",
        "  os.mkdir('/content/images')\n",
        "\n",
        "os.chdir('/content/images')\n",
        "!pwd\n",
        "!ls"
      ],
      "metadata": {
        "colab": {
          "base_uri": "https://localhost:8080/"
        },
        "id": "IF78Xnpd85nK",
        "outputId": "523e151f-f754-46b4-ae62-f68c06977fb7",
        "cellView": "code"
      },
      "execution_count": null,
      "outputs": [
        {
          "output_type": "stream",
          "name": "stdout",
          "text": [
            "/content/images\n"
          ]
        }
      ]
    },
    {
      "cell_type": "code",
      "execution_count": null,
      "metadata": {
        "id": "Pj2QUd8OwI6k",
        "cellView": "code"
      },
      "outputs": [],
      "source": [
        "#@title Upload files function\n",
        "# https://stackoverflow.com/questions/49186905/loading-images-in-google-colab\n",
        "\n",
        "def upload_files():\n",
        "  from google.colab import files\n",
        "  uploaded = files.upload()\n",
        "  for k, v in uploaded.items():\n",
        "    open(k, 'wb').write(v)\n",
        "  return list(uploaded.keys())"
      ]
    },
    {
      "cell_type": "code",
      "source": [
        "upload_files()"
      ],
      "metadata": {
        "id": "Ph3YIHeHwmJl"
      },
      "execution_count": null,
      "outputs": []
    },
    {
      "cell_type": "code",
      "source": [
        "apply_blur = True #@param {type:\"boolean\"}\n",
        "\n",
        "apply_invert = True #@param {type:\"boolean\"}\n",
        "\n",
        "download_blurred_or_inverted_image = False #@param {type:\"boolean\"}"
      ],
      "metadata": {
        "cellView": "form",
        "id": "r4fqOIKeU1-a"
      },
      "execution_count": null,
      "outputs": []
    },
    {
      "cell_type": "code",
      "source": [
        "import ipywidgets as widgets\n",
        "slider = widgets.IntSlider(value=5, max=100)\n",
        "display(slider)"
      ],
      "metadata": {
        "colab": {
          "base_uri": "https://localhost:8080/",
          "height": 49,
          "referenced_widgets": [
            "e84ae664efbe454782efcbb33051c30e",
            "826d1431d70942118a0dd17b4060b22a",
            "46d775959b8f4363bc89ee275ba210af"
          ]
        },
        "id": "iQzORnlVVLBz",
        "outputId": "5f6f1275-80da-4e00-a3f7-218e5708ae0a"
      },
      "execution_count": null,
      "outputs": [
        {
          "output_type": "display_data",
          "data": {
            "application/vnd.jupyter.widget-view+json": {
              "model_id": "e84ae664efbe454782efcbb33051c30e",
              "version_minor": 0,
              "version_major": 2
            },
            "text/plain": [
              "IntSlider(value=5)"
            ]
          },
          "metadata": {}
        }
      ]
    },
    {
      "cell_type": "code",
      "source": [
        "jpeg_compression_rate = slider.value\n",
        "print(jpeg_compression_rate)"
      ],
      "metadata": {
        "colab": {
          "base_uri": "https://localhost:8080/"
        },
        "id": "LEYq-zo8VTyl",
        "outputId": "684e7a4f-9877-4114-b8d8-9b0fb3068aaf"
      },
      "execution_count": null,
      "outputs": [
        {
          "output_type": "stream",
          "name": "stdout",
          "text": [
            "90\n"
          ]
        }
      ]
    },
    {
      "cell_type": "code",
      "source": [
        "#@title Process one or more images\n",
        "\n",
        "\n",
        "import numpy as np\n",
        "import cv2\n",
        "import matplotlib.pyplot as plt\n",
        "import os\n",
        "import math\n",
        "\n",
        "\n",
        "# https://www.pyimagesearch.com/2015/10/05/opencv-gamma-correction/\n",
        "def adjust_gamma(image, gamma=1.0):  \n",
        "\t# build a lookup table mapping the pixel values [0, 255] to\n",
        "\t# their adjusted gamma values\n",
        "\tinvGamma = 1.0 / gamma\n",
        "\ttable = np.array([((i / 255.0) ** invGamma) * 255\n",
        "\t\tfor i in np.arange(0, 256)]).astype(\"uint8\")\n",
        "\t# apply gamma correction using the lookup table\n",
        "\treturn cv2.LUT(image, table)\n",
        "\n",
        "for root, dirs, files in os.walk('/content/images/'):\n",
        "    for file in files:\n",
        "        filename, extension = os.path.splitext(file)\n",
        "        if extension == '.jpg' and '_c' not in filename:\n",
        "          \n",
        "            im = cv2.imread(file)\n",
        "            original_im = im.copy()\n",
        "            #im_resized = cv2.resize(im, (224, 224), interpolation=cv2.INTER_LINEAR)\n",
        "\n",
        "            if apply_blur:\n",
        "              im =  cv2.GaussianBlur(im,(7,7),0)\n",
        "              copy_blurred_image = im.copy()\n",
        "              if download_blurred_or_inverted_image:\n",
        "                cv2.imwrite(filename + '_blurred' + extension,im)\n",
        "\n",
        "            compressed_image = filename + '_c' + str(jpeg_compression_rate) + extension\n",
        "            cv2.imwrite(compressed_image, im, [cv2.IMWRITE_JPEG_QUALITY, jpeg_compression_rate])\n",
        "            comp_im = cv2.imread(compressed_image)\n",
        "            diff = cv2.absdiff(im, comp_im)\n",
        "\n",
        "            diff = np.asarray(diff)\n",
        "            max_diff = np.amax(diff)\n",
        "            \n",
        "            scale = 255.0 / max_diff\n",
        "            diff = adjust_gamma(diff, scale)\n",
        "\n",
        "            if apply_invert:\n",
        "              diff = cv2.bitwise_not(diff) #https://stackoverflow.com/questions/19580102/inverting-image-in-python-with-opencv\n",
        "              copy_inverted_diff_image = diff.copy()\n",
        "              if download_blurred_or_inverted_image:\n",
        "                cv2.imwrite(filename + '_inverted' + extension,diff)\n",
        "\n",
        "            if not apply_blur and not apply_invert:\n",
        "              fig = plt.figure(figsize=(20, 20))\n",
        "\n",
        "              ax1 = fig.add_subplot(1,2,1)\n",
        "              ax1.imshow(cv2.cvtColor(original_im, cv2.COLOR_BGR2RGB))\n",
        "              ax1.title.set_text(\"Analysed image is:\" + filename)\n",
        "\n",
        "              ax2 = fig.add_subplot(1,2,2)\n",
        "              ax2.imshow(diff)\n",
        "              ax2.title.set_text(\"Difference for:\" + filename + \".Compressed image used:\" + compressed_image)\n",
        "\n",
        "              plt.show()\n",
        "\n",
        "\n",
        "            if apply_blur and apply_invert == False:\n",
        "              fig = plt.figure(figsize=(20, 20))\n",
        "\n",
        "              ax1 = fig.add_subplot(1,3,1)\n",
        "              ax1.imshow(cv2.cvtColor(original_im, cv2.COLOR_BGR2RGB))\n",
        "              ax1.title.set_text(\"Analysed image is:\" + filename)\n",
        "\n",
        "              ax2 = fig.add_subplot(1,3,2)\n",
        "              ax2.imshow(cv2.cvtColor(copy_blurred_image, cv2.COLOR_BGR2RGB))\n",
        "              ax2.title.set_text(\"Blurred image for:\" + filename)\n",
        "\n",
        "              ax3 = fig.add_subplot(1,3,3)\n",
        "              ax3.imshow(diff)\n",
        "              ax3.title.set_text(\"Difference for:\" + filename + \".Compressed image used:\" + compressed_image)\n",
        "\n",
        "              plt.show()\n",
        "\n",
        "\n",
        "            if apply_invert and apply_blur == False:\n",
        "              fig = plt.figure(figsize=(20, 20))\n",
        "\n",
        "              ax1 = fig.add_subplot(1,3,1)\n",
        "              ax1.imshow(cv2.cvtColor(original_im, cv2.COLOR_BGR2RGB))\n",
        "              ax1.title.set_text(\"Analysed image is:\" + filename)\n",
        "\n",
        "              ax2 = fig.add_subplot(1,3,2)\n",
        "              ax2.imshow(cv2.cvtColor(copy_inverted_diff_image, cv2.COLOR_BGR2RGB))\n",
        "              ax2.title.set_text(\"Inverted image for:\" + filename)\n",
        "\n",
        "              ax3 = fig.add_subplot(1,3,3)\n",
        "              ax3.imshow(diff)\n",
        "              ax3.title.set_text(\"Difference for:\" + filename + \".Compressed image used:\" + compressed_image)\n",
        "\n",
        "              plt.show()\n",
        "\n",
        "\n",
        "            if apply_blur and apply_invert:\n",
        "              fig = plt.figure(figsize=(20, 20))\n",
        "\n",
        "              ax1 = fig.add_subplot(2,2,1)\n",
        "              ax1.imshow(cv2.cvtColor(original_im, cv2.COLOR_BGR2RGB))\n",
        "              ax1.title.set_text(\"Analysed image is:\" + filename)\n",
        "\n",
        "              ax2 = fig.add_subplot(2,2,2)\n",
        "              ax2.imshow(cv2.cvtColor(copy_blurred_image, cv2.COLOR_BGR2RGB))\n",
        "              ax2.title.set_text(\"Blurred image for:\" + filename)\n",
        "\n",
        "              ax3 = fig.add_subplot(2,2,3)\n",
        "              ax3.imshow(cv2.cvtColor(copy_inverted_diff_image, cv2.COLOR_BGR2RGB))\n",
        "              ax3.title.set_text(\"Inverted image for:\" + filename)\n",
        "\n",
        "              ax4 = fig.add_subplot(2,2,4)\n",
        "              ax4.imshow(copy_inverted_diff_image)\n",
        "              ax4.title.set_text(\"Difference for:\" + filename + \".Compressed image used:\" + compressed_image)\n",
        "\n",
        "              plt.show()\n",
        "\n",
        "            print('\\n')        \n"
      ],
      "metadata": {
        "id": "4NYgD5rCCmwc",
        "cellView": "code"
      },
      "execution_count": null,
      "outputs": []
    },
    {
      "cell_type": "code",
      "source": [
        "#@title Archive image results\n",
        "# https://stackoverflow.com/questions/50453428/how-do-i-download-multiple-files-or-an-entire-folder-from-google-colab\n",
        "\n",
        "!zip -r /content/results.zip /content/images/"
      ],
      "metadata": {
        "cellView": "code",
        "id": "ffZ02nTR15Lo"
      },
      "execution_count": null,
      "outputs": []
    },
    {
      "cell_type": "code",
      "source": [
        "#@title Download results archive\n",
        "from google.colab import files\n",
        "files.download(\"/content/results.zip\")"
      ],
      "metadata": {
        "colab": {
          "base_uri": "https://localhost:8080/",
          "height": 17
        },
        "cellView": "code",
        "id": "YaF0Ybzn2HUE",
        "outputId": "6f6c4a00-a8ec-487a-eb35-0d55f7d3e87f"
      },
      "execution_count": null,
      "outputs": [
        {
          "output_type": "display_data",
          "data": {
            "application/javascript": [
              "\n",
              "    async function download(id, filename, size) {\n",
              "      if (!google.colab.kernel.accessAllowed) {\n",
              "        return;\n",
              "      }\n",
              "      const div = document.createElement('div');\n",
              "      const label = document.createElement('label');\n",
              "      label.textContent = `Downloading \"${filename}\": `;\n",
              "      div.appendChild(label);\n",
              "      const progress = document.createElement('progress');\n",
              "      progress.max = size;\n",
              "      div.appendChild(progress);\n",
              "      document.body.appendChild(div);\n",
              "\n",
              "      const buffers = [];\n",
              "      let downloaded = 0;\n",
              "\n",
              "      const channel = await google.colab.kernel.comms.open(id);\n",
              "      // Send a message to notify the kernel that we're ready.\n",
              "      channel.send({})\n",
              "\n",
              "      for await (const message of channel.messages) {\n",
              "        // Send a message to notify the kernel that we're ready.\n",
              "        channel.send({})\n",
              "        if (message.buffers) {\n",
              "          for (const buffer of message.buffers) {\n",
              "            buffers.push(buffer);\n",
              "            downloaded += buffer.byteLength;\n",
              "            progress.value = downloaded;\n",
              "          }\n",
              "        }\n",
              "      }\n",
              "      const blob = new Blob(buffers, {type: 'application/binary'});\n",
              "      const a = document.createElement('a');\n",
              "      a.href = window.URL.createObjectURL(blob);\n",
              "      a.download = filename;\n",
              "      div.appendChild(a);\n",
              "      a.click();\n",
              "      div.remove();\n",
              "    }\n",
              "  "
            ],
            "text/plain": [
              "<IPython.core.display.Javascript object>"
            ]
          },
          "metadata": {}
        },
        {
          "output_type": "display_data",
          "data": {
            "application/javascript": [
              "download(\"download_7e8d29f1-b95e-4421-b3c9-1dc06fcb87de\", \"results.zip\", 569097)"
            ],
            "text/plain": [
              "<IPython.core.display.Javascript object>"
            ]
          },
          "metadata": {}
        }
      ]
    }
  ]
}